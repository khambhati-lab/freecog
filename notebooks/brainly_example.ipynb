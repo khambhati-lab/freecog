{
 "cells": [
  {
   "cell_type": "code",
   "execution_count": 2,
   "metadata": {},
   "outputs": [
    {
     "name": "stdout",
     "output_type": "stream",
     "text": [
      "The autoreload extension is already loaded. To reload it, use:\n",
      "  %reload_ext autoreload\n",
      "CPU times: user 585 μs, sys: 0 ns, total: 585 μs\n",
      "Wall time: 529 μs\n"
     ]
    }
   ],
   "source": [
    "%%time\n",
    "%load_ext autoreload\n",
    "%autoreload 2\n",
    "import os\n",
    "from glob import glob\n",
    "import pandas as pd\n",
    "from scipy.io import loadmat\n",
    "\n",
    "from freesurfer_tools import get_freesurfer_geometry\n",
    "import brainly"
   ]
  },
  {
   "cell_type": "code",
   "execution_count": 3,
   "metadata": {},
   "outputs": [
    {
     "ename": "IndexError",
     "evalue": "list index out of range",
     "output_type": "error",
     "traceback": [
      "\u001b[31m---------------------------------------------------------------------------\u001b[39m",
      "\u001b[31mIndexError\u001b[39m                                Traceback (most recent call last)",
      "\u001b[36mCell\u001b[39m\u001b[36m \u001b[39m\u001b[32mIn[3]\u001b[39m\u001b[32m, line 5\u001b[39m\n\u001b[32m      2\u001b[39m IMG_DIR = \u001b[33m'\u001b[39m\u001b[33m/data_store2/imaging/subjects\u001b[39m\u001b[33m'\u001b[39m\n\u001b[32m      4\u001b[39m ELECS_FILES = glob(os.path.join(IMG_DIR, SUBJECT_ID, \u001b[33m'\u001b[39m\u001b[33melecs\u001b[39m\u001b[33m'\u001b[39m, \u001b[33m'\u001b[39m\u001b[33m*.mat\u001b[39m\u001b[33m'\u001b[39m)) \u001b[38;5;66;03m# Choose One of these to project the data\u001b[39;00m\n\u001b[32m----> \u001b[39m\u001b[32m5\u001b[39m ELECS = loadmat(\u001b[43mELECS_FILES\u001b[49m\u001b[43m[\u001b[49m\u001b[32;43m0\u001b[39;49m\u001b[43m]\u001b[49m, squeeze_me=\u001b[38;5;28;01mTrue\u001b[39;00m)\n\u001b[32m      6\u001b[39m DF_ELECTRODES = pd.DataFrame([\n\u001b[32m      7\u001b[39m     ELECS[\u001b[33m'\u001b[39m\u001b[33meleclabels\u001b[39m\u001b[33m'\u001b[39m][:,\u001b[32m0\u001b[39m].astype(\u001b[38;5;28mstr\u001b[39m),\n\u001b[32m      8\u001b[39m     ELECS[\u001b[33m'\u001b[39m\u001b[33melecmatrix\u001b[39m\u001b[33m'\u001b[39m][:,\u001b[32m0\u001b[39m],\n\u001b[32m      9\u001b[39m     ELECS[\u001b[33m'\u001b[39m\u001b[33melecmatrix\u001b[39m\u001b[33m'\u001b[39m][:,\u001b[32m1\u001b[39m],\n\u001b[32m     10\u001b[39m     ELECS[\u001b[33m'\u001b[39m\u001b[33melecmatrix\u001b[39m\u001b[33m'\u001b[39m][:,\u001b[32m2\u001b[39m]], \n\u001b[32m     11\u001b[39m     index=[\u001b[33m'\u001b[39m\u001b[33mContact\u001b[39m\u001b[33m'\u001b[39m, \u001b[33m'\u001b[39m\u001b[33mx\u001b[39m\u001b[33m'\u001b[39m, \u001b[33m'\u001b[39m\u001b[33my\u001b[39m\u001b[33m'\u001b[39m, \u001b[33m'\u001b[39m\u001b[33mz\u001b[39m\u001b[33m'\u001b[39m]).T\n\u001b[32m     12\u001b[39m DF_ELECTRODES[\u001b[33m'\u001b[39m\u001b[33mradius\u001b[39m\u001b[33m'\u001b[39m] = \u001b[32m5\u001b[39m\n",
      "\u001b[31mIndexError\u001b[39m: list index out of range"
     ]
    }
   ],
   "source": [
    "SUBJECT_ID=\"EC175\"\n",
    "IMG_DIR = '/data_store2/imaging/subjects'\n",
    "\n",
    "ELECS_FILES = glob(os.path.join(IMG_DIR, SUBJECT_ID, 'elecs', '*.mat')) # Choose One of these to project the data\n",
    "ELECS = loadmat(ELECS_FILES[0], squeeze_me=True)\n",
    "DF_ELECTRODES = pd.DataFrame([\n",
    "    ELECS['eleclabels'][:,0].astype(str),\n",
    "    ELECS['elecmatrix'][:,0],\n",
    "    ELECS['elecmatrix'][:,1],\n",
    "    ELECS['elecmatrix'][:,2]], \n",
    "    index=['Contact', 'x', 'y', 'z']).T\n",
    "DF_ELECTRODES['radius'] = 5\n",
    "DF_ELECTRODES['color'] = [(0,0,0,1)]*len(DF_ELECTRODES) #RGBA\n",
    "                             \n",
    "SUBJECT_MESHES = {}\n",
    "SUBJECT_MESHES['brain'] = get_freesurfer_geometry(os.path.join(IMG_DIR, SUBJECT_ID))\n",
    "SUBJECT_MESHES[\"brain\"][\"lh\"][\"text\"] = \"Pial\"\n",
    "SUBJECT_MESHES[\"brain\"][\"lh\"][\"color\"] = \"gray\"\n",
    "SUBJECT_MESHES[\"brain\"][\"lh\"][\"opacity\"] = 0.05\n",
    "SUBJECT_MESHES[\"brain\"][\"rh\"][\"text\"] = \"Pial\"\n",
    "SUBJECT_MESHES[\"brain\"][\"rh\"][\"color\"] = \"gray\"\n",
    "SUBJECT_MESHES[\"brain\"][\"rh\"][\"opacity\"] = 0.05"
   ]
  },
  {
   "cell_type": "code",
   "execution_count": 29,
   "metadata": {},
   "outputs": [],
   "source": [
    "fig = plotly_mapper_reduced.generate_fig(SUBJECT_ID, SUBJECT_MESHES, DF_ELECTRODES)\n",
    "fig.write_html(f\"{SUBJECT_ID}_Stage1_Recon.html\")"
   ]
  },
  {
   "cell_type": "code",
   "execution_count": null,
   "metadata": {},
   "outputs": [],
   "source": []
  },
  {
   "cell_type": "code",
   "execution_count": null,
   "metadata": {},
   "outputs": [],
   "source": []
  }
 ],
 "metadata": {
  "kernelspec": {
   "display_name": "Python 3 (ipykernel)",
   "language": "python",
   "name": "python3"
  },
  "language_info": {
   "codemirror_mode": {
    "name": "ipython",
    "version": 3
   },
   "file_extension": ".py",
   "mimetype": "text/x-python",
   "name": "python",
   "nbconvert_exporter": "python",
   "pygments_lexer": "ipython3",
   "version": "3.13.1"
  },
  "toc": {
   "base_numbering": 1,
   "nav_menu": {},
   "number_sections": true,
   "sideBar": true,
   "skip_h1_title": false,
   "title_cell": "Table of Contents",
   "title_sidebar": "Contents",
   "toc_cell": false,
   "toc_position": {
    "height": "calc(100% - 180px)",
    "left": "10px",
    "top": "150px",
    "width": "288px"
   },
   "toc_section_display": true,
   "toc_window_display": true
  }
 },
 "nbformat": 4,
 "nbformat_minor": 4
}
